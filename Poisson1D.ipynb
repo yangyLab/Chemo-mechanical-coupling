{
  "nbformat": 4,
  "nbformat_minor": 0,
  "metadata": {
    "colab": {
      "name": "Poisson1D.ipynb",
      "provenance": [],
      "collapsed_sections": [],
      "authorship_tag": "ABX9TyNc8cYKjbjOJ0YDjqDhg1rU",
      "include_colab_link": true
    },
    "kernelspec": {
      "name": "python3",
      "display_name": "Python 3"
    },
    "language_info": {
      "name": "python"
    }
  },
  "cells": [
    {
      "cell_type": "markdown",
      "metadata": {
        "id": "view-in-github",
        "colab_type": "text"
      },
      "source": [
        "<a href=\"https://colab.research.google.com/github/yangyLab/Chemo-mechanical-coupling/blob/main/Poisson1D.ipynb\" target=\"_parent\"><img src=\"https://colab.research.google.com/assets/colab-badge.svg\" alt=\"Open In Colab\"/></a>"
      ]
    },
    {
      "cell_type": "code",
      "source": [
        "pip install deepxde"
      ],
      "metadata": {
        "colab": {
          "base_uri": "https://localhost:8080/"
        },
        "id": "cN5l1QW8SHqb",
        "outputId": "6336e7ac-0748-4cf2-d9d7-09b2f6fd9a7a"
      },
      "execution_count": 3,
      "outputs": [
        {
          "output_type": "stream",
          "name": "stdout",
          "text": [
            "Requirement already satisfied: deepxde in /usr/local/lib/python3.7/dist-packages (0.14.1)\n",
            "Requirement already satisfied: scikit-learn in /usr/local/lib/python3.7/dist-packages (from deepxde) (1.0.1)\n",
            "Requirement already satisfied: scipy in /usr/local/lib/python3.7/dist-packages (from deepxde) (1.4.1)\n",
            "Requirement already satisfied: matplotlib in /usr/local/lib/python3.7/dist-packages (from deepxde) (3.2.2)\n",
            "Requirement already satisfied: scikit-optimize in /usr/local/lib/python3.7/dist-packages (from deepxde) (0.9.0)\n",
            "Requirement already satisfied: numpy in /usr/local/lib/python3.7/dist-packages (from deepxde) (1.19.5)\n",
            "Requirement already satisfied: kiwisolver>=1.0.1 in /usr/local/lib/python3.7/dist-packages (from matplotlib->deepxde) (1.3.2)\n",
            "Requirement already satisfied: python-dateutil>=2.1 in /usr/local/lib/python3.7/dist-packages (from matplotlib->deepxde) (2.8.2)\n",
            "Requirement already satisfied: pyparsing!=2.0.4,!=2.1.2,!=2.1.6,>=2.0.1 in /usr/local/lib/python3.7/dist-packages (from matplotlib->deepxde) (3.0.6)\n",
            "Requirement already satisfied: cycler>=0.10 in /usr/local/lib/python3.7/dist-packages (from matplotlib->deepxde) (0.11.0)\n",
            "Requirement already satisfied: six>=1.5 in /usr/local/lib/python3.7/dist-packages (from python-dateutil>=2.1->matplotlib->deepxde) (1.15.0)\n",
            "Requirement already satisfied: threadpoolctl>=2.0.0 in /usr/local/lib/python3.7/dist-packages (from scikit-learn->deepxde) (3.0.0)\n",
            "Requirement already satisfied: joblib>=0.11 in /usr/local/lib/python3.7/dist-packages (from scikit-learn->deepxde) (1.1.0)\n",
            "Requirement already satisfied: pyaml>=16.9 in /usr/local/lib/python3.7/dist-packages (from scikit-optimize->deepxde) (21.10.1)\n",
            "Requirement already satisfied: PyYAML in /usr/local/lib/python3.7/dist-packages (from pyaml>=16.9->scikit-optimize->deepxde) (3.13)\n"
          ]
        }
      ]
    },
    {
      "cell_type": "code",
      "source": [
        "import deepxde as dde\n",
        "from deepxde.backend import tf\n",
        "import matplotlib.pyplot as plt\n",
        "import numpy as np"
      ],
      "metadata": {
        "id": "Q71mo6qpSgxu"
      },
      "execution_count": 9,
      "outputs": []
    },
    {
      "cell_type": "code",
      "source": [
        "def pde(x,y):\n",
        "    dy_dx = dde.grad.hessian(y,x)\n",
        "    return -dy_dx - np.pi ** 2 * tf.sin(np.pi * x)\n",
        "\n",
        "def boundary(x,_):\n",
        "    return np.isclose(x[0],-1) or np.isclose(x[0],1)\n",
        "\n",
        "def func(x):\n",
        "    return 0\n",
        "\n",
        "def func1(x):\n",
        "    return np.sin(np.pi * x)\n",
        "\n",
        "geom = dde.geometry.Interval(-1,1)\n",
        "bc = dde.DirichletBC(geom,func,boundary)\n",
        "data = dde.data.PDE(geom,pde,bc,16,2,num_test=100)\n",
        "\n",
        "layer_size = [1] + [50] * 3 + [1]\n",
        "activation = \"tanh\"\n",
        "initializer = \"Glorot uniform\"\n",
        "net = dde.maps.FNN(layer_size, activation, initializer)\n",
        "\n",
        "model = dde.Model(data, net)\n",
        "model.compile(\"adam\", lr=0.001)\n",
        "\n",
        "losshistory, train_state = model.train(epochs=10000)\n",
        "\n",
        "\n",
        "dde.saveplot(losshistory,train_state,issave=True,isplot=True)\n",
        "\n",
        "x=geom.uniform_points(1000,True)\n",
        "y=model.predict(x,operator=pde)\n",
        "#plt.figure()\n",
        "#plt.plot(x,y)\n",
        "#plt.xlabel(\"x\")\n",
        "#plt.ylabel(\"PDE residual\")\n",
        "#plt.show()"
      ],
      "metadata": {
        "colab": {
          "base_uri": "https://localhost:8080/",
          "height": 1000
        },
        "id": "jgDlw_cdSsTw",
        "outputId": "a1e8e25e-61f6-405e-9b57-4355d71ef773"
      },
      "execution_count": 24,
      "outputs": [
        {
          "output_type": "stream",
          "name": "stdout",
          "text": [
            "Compiling model...\n",
            "Building feed-forward neural network...\n",
            "'build' took 0.069728 s\n",
            "\n"
          ]
        },
        {
          "output_type": "stream",
          "name": "stderr",
          "text": [
            "/usr/local/lib/python3.7/dist-packages/skopt/sampler/sobol.py:250: UserWarning: The balance properties of Sobol' points require n to be a power of 2. 0 points have been previously generated, then: n=0+18=18. \n",
            "  total_n_samples))\n",
            "/usr/local/lib/python3.7/dist-packages/deepxde/nn/tensorflow_compat_v1/fnn.py:110: UserWarning: `tf.layers.dense` is deprecated and will be removed in a future version. Please use `tf.keras.layers.Dense` instead.\n",
            "  kernel_constraint=self.kernel_constraint,\n",
            "/usr/local/lib/python3.7/dist-packages/keras/legacy_tf_layers/core.py:255: UserWarning: `layer.apply` is deprecated and will be removed in a future version. Please use `layer.__call__` method instead.\n",
            "  return layer.apply(inputs)\n"
          ]
        },
        {
          "output_type": "stream",
          "name": "stdout",
          "text": [
            "'compile' took 0.809101 s\n",
            "\n",
            "Initializing variables...\n",
            "Training model...\n",
            "\n",
            "Step      Train loss              Test loss               Test metric\n",
            "0         [4.70e+01, 2.91e-02]    [4.96e+01, 2.91e-02]    []  \n",
            "1000      [1.16e-03, 1.46e-06]    [1.54e-03, 1.46e-06]    []  \n",
            "2000      [1.00e-04, 1.73e-08]    [2.47e-04, 1.73e-08]    []  \n",
            "3000      [6.42e-05, 3.15e-06]    [2.10e-04, 3.15e-06]    []  \n",
            "4000      [1.61e-05, 6.46e-09]    [9.32e-05, 6.46e-09]    []  \n",
            "5000      [3.53e-05, 2.65e-06]    [5.57e-05, 2.65e-06]    []  \n",
            "6000      [1.01e-05, 1.77e-08]    [7.04e-05, 1.77e-08]    []  \n",
            "7000      [1.84e-05, 1.10e-07]    [8.29e-05, 1.10e-07]    []  \n",
            "8000      [9.22e-06, 1.85e-07]    [4.84e-05, 1.85e-07]    []  \n",
            "9000      [9.55e-05, 7.00e-06]    [1.77e-04, 7.00e-06]    []  \n",
            "10000     [1.65e-04, 1.56e-05]    [2.42e-04, 1.56e-05]    []  \n",
            "\n",
            "Best model at step 8000:\n",
            "  train loss: 9.41e-06\n",
            "  test loss: 4.85e-05\n",
            "  test metric: []\n",
            "\n",
            "'train' took 11.728922 s\n",
            "\n",
            "Saving loss history to /content/loss.dat ...\n",
            "Saving training data to /content/train.dat ...\n",
            "Saving test data to /content/test.dat ...\n"
          ]
        },
        {
          "output_type": "display_data",
          "data": {
            "image/png": "[encoded data removed]",
            "text/plain": [
              "<Figure size 432x288 with 1 Axes>"
            ]
          },
          "metadata": {
            "needs_background": "light"
          }
        },
        {
          "output_type": "display_data",
          "data": {
            "image/png": "[encoded data removed]",
            "text/plain": [
              "<Figure size 432x288 with 1 Axes>"
            ]
          },
          "metadata": {
            "needs_background": "light"
          }
        }
      ]
    },
    {
      "cell_type": "code",
      "source": [
        "train_state.y_pred_train"
      ],
      "metadata": {
        "colab": {
          "base_uri": "https://localhost:8080/"
        },
        "id": "gu0OEY49xdlD",
        "outputId": "d741d543-9a77-4bf2-826c-d0edcebfe887"
      },
      "execution_count": 26,
      "outputs": [
        {
          "output_type": "execute_result",
          "data": {
            "text/plain": [
              "array([[ 0.00423475],\n",
              "       [-0.00364767],\n",
              "       [ 0.00423475],\n",
              "       [-0.00364767],\n",
              "       [ 0.998811  ],\n",
              "       [-0.99804765],\n",
              "       [-0.7062419 ],\n",
              "       [ 0.70442736],\n",
              "       [ 0.7070048 ],\n",
              "       [-0.7036702 ],\n",
              "       [-0.92117685],\n",
              "       [ 0.9233071 ],\n",
              "       [ 0.37935266],\n",
              "       [-0.38209483],\n",
              "       [-0.9225422 ],\n",
              "       [ 0.9219364 ],\n",
              "       [ 0.38287893],\n",
              "       [-0.3786638 ],\n",
              "       [-0.5518233 ],\n",
              "       [ 0.55563724]], dtype=float32)"
            ]
          },
          "metadata": {},
          "execution_count": 26
        }
      ]
    }
  ]
}